{
 "cells": [
  {
   "cell_type": "code",
   "execution_count": 4,
   "id": "5df9f0c4-5138-4853-b214-95044ec8d955",
   "metadata": {},
   "outputs": [],
   "source": [
    "# !pip install torch\n",
    "# !pip install sentence_transformers"
   ]
  },
  {
   "cell_type": "code",
   "execution_count": 5,
   "id": "0f568b7c-855b-42a3-9d11-6f7fe388313a",
   "metadata": {},
   "outputs": [],
   "source": [
    "import numpy as np\n",
    "import pandas as pd\n",
    "import torch\n",
    "from collections import Counter\n",
    "import re\n",
    "import time\n",
    "\n",
    "from sentence_transformers import SentenceTransformer, util\n",
    "\n",
    "# text processing\n",
    "from nltk.stem import PorterStemmer\n",
    "from nltk.tokenize import word_tokenize\n",
    "from nltk.stem import WordNetLemmatizer\n",
    "from nltk.probability import FreqDist\n",
    "from nltk.corpus import stopwords"
   ]
  },
  {
   "cell_type": "code",
   "execution_count": 7,
   "id": "41907549-94d5-4ad3-ad03-b6cad58306f0",
   "metadata": {},
   "outputs": [
    {
     "name": "stderr",
     "output_type": "stream",
     "text": [
      "Downloading: 100%|██████████| 391/391 [00:00<00:00, 129kB/s]\n",
      "Downloading: 100%|██████████| 190/190 [00:00<00:00, 156kB/s]\n",
      "Downloading: 100%|██████████| 3.95k/3.95k [00:00<00:00, 2.94MB/s]\n",
      "Downloading: 100%|██████████| 2.00/2.00 [00:00<00:00, 1.59kB/s]\n",
      "Downloading: 100%|██████████| 625/625 [00:00<00:00, 491kB/s]\n",
      "Downloading: 100%|██████████| 122/122 [00:00<00:00, 95.5kB/s]\n",
      "Downloading: 100%|██████████| 229/229 [00:00<00:00, 178kB/s]\n",
      "Downloading: 100%|██████████| 438M/438M [00:07<00:00, 57.2MB/s] \n",
      "Downloading: 100%|██████████| 53.0/53.0 [00:00<00:00, 17.2kB/s]\n",
      "Downloading: 100%|██████████| 112/112 [00:00<00:00, 88.0kB/s]\n",
      "Downloading: 100%|██████████| 466k/466k [00:00<00:00, 3.34MB/s]\n",
      "Downloading: 100%|██████████| 399/399 [00:00<00:00, 303kB/s]\n",
      "Downloading: 100%|██████████| 232k/232k [00:00<00:00, 2.02MB/s]\n"
     ]
    }
   ],
   "source": [
    "# import the BERT model\n",
    "model = SentenceTransformer('bert-base-nli-mean-tokens')"
   ]
  },
  {
   "cell_type": "code",
   "execution_count": null,
   "id": "4ff17b05-8102-4301-9bcc-e22919e53396",
   "metadata": {},
   "outputs": [],
   "source": []
  }
 ],
 "metadata": {
  "environment": {
   "kernel": "python3",
   "name": "common-cpu.m93",
   "type": "gcloud",
   "uri": "gcr.io/deeplearning-platform-release/base-cpu:m93"
  },
  "kernelspec": {
   "display_name": "Python 3",
   "language": "python",
   "name": "python3"
  },
  "language_info": {
   "codemirror_mode": {
    "name": "ipython",
    "version": 3
   },
   "file_extension": ".py",
   "mimetype": "text/x-python",
   "name": "python",
   "nbconvert_exporter": "python",
   "pygments_lexer": "ipython3",
   "version": "3.7.12"
  }
 },
 "nbformat": 4,
 "nbformat_minor": 5
}
